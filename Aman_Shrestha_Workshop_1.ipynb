{
 "cells": [
  {
   "cell_type": "markdown",
   "id": "8915cf21",
   "metadata": {},
   "source": [
    "Initialize an empty array with size 2X2."
   ]
  },
  {
   "cell_type": "code",
   "execution_count": 9,
   "id": "dfbf0fb5",
   "metadata": {},
   "outputs": [
    {
     "name": "stdout",
     "output_type": "stream",
     "text": [
      "[[2.12199579e-314 1.12677977e-311]\n",
      " [5.35567160e-321 1.12677977e-311]]\n"
     ]
    }
   ],
   "source": [
    "import numpy as np\n",
    "\n",
    "a = np.empty((2,2))\n",
    "print(a)"
   ]
  },
  {
   "cell_type": "markdown",
   "id": "55b59a00",
   "metadata": {},
   "source": [
    "Initialize an all one array with size 4X2."
   ]
  },
  {
   "cell_type": "code",
   "execution_count": 11,
   "id": "649a2ba4",
   "metadata": {},
   "outputs": [
    {
     "name": "stdout",
     "output_type": "stream",
     "text": [
      "[[1. 1.]\n",
      " [1. 1.]\n",
      " [1. 1.]\n",
      " [1. 1.]]\n"
     ]
    }
   ],
   "source": [
    "import numpy as np\n",
    "b = np.ones((4,2))\n",
    "print(b)"
   ]
  },
  {
   "cell_type": "markdown",
   "id": "f89f8138",
   "metadata": {},
   "source": [
    "Return a new array of given shape and type, filled with fill value.{Hint: np.full}"
   ]
  },
  {
   "cell_type": "code",
   "execution_count": 12,
   "id": "b3de64ed",
   "metadata": {},
   "outputs": [
    {
     "name": "stdout",
     "output_type": "stream",
     "text": [
      "[[4 4]\n",
      " [4 4]\n",
      " [4 4]\n",
      " [4 4]]\n"
     ]
    }
   ],
   "source": [
    "import numpy as np\n",
    "new_arr = np.full((4,2),4)\n",
    "print(new_arr)"
   ]
  },
  {
   "cell_type": "markdown",
   "id": "49665e47",
   "metadata": {},
   "source": [
    "Return a new array of zeros with same shape and type as a given array.{Hint: np.zeros like}"
   ]
  },
  {
   "cell_type": "code",
   "execution_count": 14,
   "id": "1f28bf7d",
   "metadata": {},
   "outputs": [
    {
     "name": "stdout",
     "output_type": "stream",
     "text": [
      "[[0 0]\n",
      " [0 0]\n",
      " [0 0]\n",
      " [0 0]]\n"
     ]
    }
   ],
   "source": [
    "import numpy as np\n",
    "new_array = np.zeros_like(new_arr)\n",
    "print(new_array)"
   ]
  },
  {
   "cell_type": "markdown",
   "id": "f9842f0f",
   "metadata": {},
   "source": [
    "Return a new array of ones with same shape and type as a given array.{Hint: np.ones like}"
   ]
  },
  {
   "cell_type": "code",
   "execution_count": 15,
   "id": "839acfa0",
   "metadata": {},
   "outputs": [
    {
     "name": "stdout",
     "output_type": "stream",
     "text": [
      "[[1 1]\n",
      " [1 1]\n",
      " [1 1]\n",
      " [1 1]]\n"
     ]
    }
   ],
   "source": [
    "import numpy as np\n",
    "new_array_of_one = np.ones_like(new_array)\n",
    "print(new_array_of_one)"
   ]
  },
  {
   "cell_type": "markdown",
   "id": "9eeebe52",
   "metadata": {},
   "source": [
    "For an existing list new_list = [1,2,3,4] convert to an numpy array.{Hint: np.array()}"
   ]
  },
  {
   "cell_type": "code",
   "execution_count": 16,
   "id": "682ecdb4",
   "metadata": {},
   "outputs": [
    {
     "name": "stdout",
     "output_type": "stream",
     "text": [
      "[1 2 3 4]\n"
     ]
    }
   ],
   "source": [
    "import numpy as np\n",
    "new_list = [1,2,3,4]\n",
    "a = np.array(new_list)\n",
    "print(a)"
   ]
  },
  {
   "cell_type": "markdown",
   "id": "85604e0c",
   "metadata": {},
   "source": [
    "Problem - 2: Array Manipulation: Numerical Ranges and Array indexing:"
   ]
  },
  {
   "cell_type": "markdown",
   "id": "2f4aaeea",
   "metadata": {},
   "source": [
    "Create an array with values ranging from 10 to 49. {Hint:np.arrange()}."
   ]
  },
  {
   "cell_type": "code",
   "execution_count": 17,
   "id": "988d4895",
   "metadata": {},
   "outputs": [
    {
     "name": "stdout",
     "output_type": "stream",
     "text": [
      "[10 11 12 13 14 15 16 17 18 19 20 21 22 23 24 25 26 27 28 29 30 31 32 33\n",
      " 34 35 36 37 38 39 40 41 42 43 44 45 46 47 48 49]\n"
     ]
    }
   ],
   "source": [
    "import numpy as np\n",
    "a = np.arange(10,50)\n",
    "print(a)"
   ]
  },
  {
   "cell_type": "markdown",
   "id": "c3ba272e",
   "metadata": {},
   "source": [
    "Create a 3X3 matrix with values ranging from 0 to 8.\n",
    "{Hint:look for np.reshape()}"
   ]
  },
  {
   "cell_type": "code",
   "execution_count": 18,
   "id": "0b273905",
   "metadata": {},
   "outputs": [
    {
     "data": {
      "text/plain": [
       "array([[0, 1, 2],\n",
       "       [3, 4, 5],\n",
       "       [6, 7, 8]])"
      ]
     },
     "execution_count": 18,
     "metadata": {},
     "output_type": "execute_result"
    }
   ],
   "source": [
    "import numpy as np\n",
    "a = np.arange(9)\n",
    "a = np.reshape(a,(3,3))\n",
    "a"
   ]
  },
  {
   "cell_type": "markdown",
   "id": "422057f7",
   "metadata": {},
   "source": [
    "Create a 3X3 identity matrix.{Hint:np.eye()}"
   ]
  },
  {
   "cell_type": "code",
   "execution_count": 19,
   "id": "6ae6b2ad",
   "metadata": {},
   "outputs": [
    {
     "name": "stdout",
     "output_type": "stream",
     "text": [
      "[[1. 0. 0.]\n",
      " [0. 1. 0.]\n",
      " [0. 0. 1.]]\n"
     ]
    }
   ],
   "source": [
    "import numpy as np\n",
    "a = np.eye(3,3)\n",
    "print(a)"
   ]
  },
  {
   "cell_type": "markdown",
   "id": "119858de",
   "metadata": {},
   "source": [
    "Create a random array of size 30 and find the mean of the array.\n",
    "{Hint:check for np.random.random() and array.mean() function}"
   ]
  },
  {
   "cell_type": "code",
   "execution_count": 22,
   "id": "f0bc4fbe",
   "metadata": {},
   "outputs": [
    {
     "name": "stdout",
     "output_type": "stream",
     "text": [
      "[0.00552726 0.2205982  0.45811671 0.82325278 0.39371279 0.84213463\n",
      " 0.01891866 0.77604621 0.46347793 0.657057   0.01363497 0.56088948\n",
      " 0.97918285 0.21337238 0.50253003 0.81586327 0.33541926 0.54406631\n",
      " 0.52548036 0.09384127 0.27718187 0.55795646 0.99179689 0.01566838\n",
      " 0.84397601 0.78412088 0.89137323 0.33082842 0.83135995 0.10253107]\n",
      "mean:  0.49566385135339647\n"
     ]
    }
   ],
   "source": [
    "import numpy as np\n",
    "a = np.random.random(30)\n",
    "print(a)\n",
    "result = a.mean()\n",
    "print(\"mean: \",result)\n"
   ]
  },
  {
   "cell_type": "markdown",
   "id": "3ed87b7a",
   "metadata": {},
   "source": [
    "Create a 10X10 array with random values and find the minimum and maximum values."
   ]
  },
  {
   "cell_type": "code",
   "execution_count": 23,
   "id": "9a87b052",
   "metadata": {},
   "outputs": [
    {
     "name": "stdout",
     "output_type": "stream",
     "text": [
      "[[0.08981004 0.49113002 0.24213224 0.98348371 0.43391147 0.83655331\n",
      "  0.52883208 0.73198182 0.55861886 0.75052416]\n",
      " [0.04931546 0.99586468 0.753413   0.64244444 0.28705516 0.51011313\n",
      "  0.44933506 0.76818765 0.50552666 0.29153681]\n",
      " [0.92673602 0.47885021 0.35516945 0.2001012  0.61716747 0.83468194\n",
      "  0.61377666 0.78523417 0.68093252 0.88991496]\n",
      " [0.00718152 0.31041833 0.12757374 0.62248071 0.48331234 0.14718105\n",
      "  0.88356625 0.1879485  0.00295473 0.43717718]\n",
      " [0.62470861 0.11413358 0.75935951 0.54617943 0.20050192 0.34113162\n",
      "  0.13146509 0.63191255 0.53642966 0.15672386]\n",
      " [0.87331134 0.59788818 0.26660132 0.59927059 0.51629793 0.643333\n",
      "  0.65090152 0.43807121 0.33866974 0.5417828 ]\n",
      " [0.08465693 0.16736322 0.53392568 0.29259286 0.5642804  0.72743091\n",
      "  0.09779661 0.04588376 0.0901622  0.42951901]\n",
      " [0.31871173 0.82164767 0.17040004 0.48908678 0.29846318 0.51554537\n",
      "  0.82631146 0.18891137 0.7113496  0.13467814]\n",
      " [0.29211252 0.45969564 0.65722652 0.29261729 0.68084373 0.75993445\n",
      "  0.85814461 0.04687857 0.17625819 0.6882636 ]\n",
      " [0.07544819 0.88308595 0.07372203 0.01603791 0.90093297 0.58031874\n",
      "  0.0111713  0.55813731 0.92298433 0.23895207]]\n",
      "maximum:  0.995864677219037\n",
      "minimum:  0.002954728088523262\n"
     ]
    }
   ],
   "source": [
    "import numpy as np\n",
    "a = np.random.random(100)\n",
    "reshape_a = np.reshape(a,(10,10))\n",
    "print(reshape_a)\n",
    "print(\"maximum: \",reshape_a.max())\n",
    "print(\"minimum: \",reshape_a.min())"
   ]
  },
  {
   "cell_type": "markdown",
   "id": "d248cd38",
   "metadata": {},
   "source": [
    "Create a zero array of size 10 and replace 5th element with 1."
   ]
  },
  {
   "cell_type": "code",
   "execution_count": 24,
   "id": "aea9d057",
   "metadata": {},
   "outputs": [
    {
     "name": "stdout",
     "output_type": "stream",
     "text": [
      "[0. 0. 0. 0. 1. 0. 0. 0. 0. 0.]\n"
     ]
    }
   ],
   "source": [
    "import numpy as np\n",
    "a = np.zeros(10)\n",
    "np.put(a,4,1)\n",
    "print(a)"
   ]
  },
  {
   "cell_type": "markdown",
   "id": "7f8b8947",
   "metadata": {},
   "source": [
    "Reverse an array arr = [1,2,0,0,4,0]."
   ]
  },
  {
   "cell_type": "code",
   "execution_count": 25,
   "id": "816fdaea",
   "metadata": {},
   "outputs": [
    {
     "name": "stdout",
     "output_type": "stream",
     "text": [
      "[0 4 0 0 2 1]\n"
     ]
    }
   ],
   "source": [
    "import numpy as np\n",
    "arr = [1,2,0,0,4,0]\n",
    "a = np.flip(arr)\n",
    "print(a)"
   ]
  },
  {
   "cell_type": "markdown",
   "id": "756e30a7",
   "metadata": {},
   "source": [
    "Create a 2d array with 1 on border and 0 inside."
   ]
  },
  {
   "cell_type": "code",
   "execution_count": 26,
   "id": "82335c91",
   "metadata": {},
   "outputs": [
    {
     "name": "stdout",
     "output_type": "stream",
     "text": [
      "[[1. 1. 1. 1.]\n",
      " [1. 0. 0. 1.]\n",
      " [1. 0. 0. 1.]\n",
      " [1. 1. 1. 1.]]\n"
     ]
    }
   ],
   "source": [
    "import numpy as np\n",
    "a = np.ones(16)\n",
    "b = np.reshape(a,(4,4))\n",
    "b[1:-1,1:-1] = 0\n",
    "print(b)"
   ]
  },
  {
   "cell_type": "markdown",
   "id": "23b0af1b",
   "metadata": {},
   "source": [
    "Create a 8X8 matrix and fill it with a checkerboard pattern."
   ]
  },
  {
   "cell_type": "code",
   "execution_count": 27,
   "id": "783e68c0",
   "metadata": {},
   "outputs": [
    {
     "data": {
      "text/plain": [
       "array([[0., 1., 0., 1., 0., 1., 0., 1.],\n",
       "       [1., 0., 1., 0., 1., 0., 1., 0.],\n",
       "       [0., 1., 0., 1., 0., 1., 0., 1.],\n",
       "       [1., 0., 1., 0., 1., 0., 1., 0.],\n",
       "       [0., 1., 0., 1., 0., 1., 0., 1.],\n",
       "       [1., 0., 1., 0., 1., 0., 1., 0.],\n",
       "       [0., 1., 0., 1., 0., 1., 0., 1.],\n",
       "       [1., 0., 1., 0., 1., 0., 1., 0.]])"
      ]
     },
     "execution_count": 27,
     "metadata": {},
     "output_type": "execute_result"
    }
   ],
   "source": [
    "import numpy as np\n",
    "a = np.zeros((8,8))\n",
    "a[1::2,0::2]=1\n",
    "a[::2,1::2]=1\n",
    "a"
   ]
  },
  {
   "cell_type": "markdown",
   "id": "ae22d000",
   "metadata": {},
   "source": [
    "For the following arrays:<br>\n",
    "x = np.array([[1,2],[3,5]]) and y = np.array([[5,6],[7,8]]); <br>\n",
    "v = np.array([9,10]) and w = np.array([11,12]); <br>\n",
    "Complete all the task using numpy:"
   ]
  },
  {
   "cell_type": "code",
   "execution_count": 35,
   "id": "4bbc105a",
   "metadata": {},
   "outputs": [
    {
     "name": "stdout",
     "output_type": "stream",
     "text": [
      "add x+y:  [[ 6  8]\n",
      " [10 13]]\n",
      "subtract w-v:  [2 2]\n",
      "multiply x*4:  [[ 4  8]\n",
      " [12 20]]\n",
      "square of x:  [[ 1  4]\n",
      " [ 9 25]]\n",
      "the dot product of v and w is 219\n",
      "the dot product of x and v is [29 77]\n",
      "the dot product of x and y is [[19 22]\n",
      " [50 58]]\n",
      "Concatenate of x and y along row is [[1 2]\n",
      " [3 5]\n",
      " [5 6]\n",
      " [7 8]]\n",
      "Concatenate of v and w along column is [[ 9 11]\n",
      " [10 12]]\n"
     ]
    },
    {
     "ename": "ValueError",
     "evalue": "all the input arrays must have same number of dimensions, but the array at index 0 has 2 dimension(s) and the array at index 1 has 1 dimension(s)",
     "output_type": "error",
     "traceback": [
      "\u001b[1;31m---------------------------------------------------------------------------\u001b[0m",
      "\u001b[1;31mValueError\u001b[0m                                Traceback (most recent call last)",
      "Cell \u001b[1;32mIn[35], line 32\u001b[0m\n\u001b[0;32m     29\u001b[0m \u001b[38;5;28mprint\u001b[39m(\u001b[38;5;124mf\u001b[39m\u001b[38;5;124m\"\u001b[39m\u001b[38;5;124mConcatenate of v and w along column is \u001b[39m\u001b[38;5;132;01m{\u001b[39;00mb\u001b[38;5;132;01m}\u001b[39;00m\u001b[38;5;124m\"\u001b[39m)\n\u001b[0;32m     31\u001b[0m \u001b[38;5;66;03m# Concatenate x(and)v; if you get an error, observe and explain why did you get the error?\u001b[39;00m\n\u001b[1;32m---> 32\u001b[0m c \u001b[38;5;241m=\u001b[39m np\u001b[38;5;241m.\u001b[39mconcatenate((x,v))\n",
      "File \u001b[1;32m<__array_function__ internals>:200\u001b[0m, in \u001b[0;36mconcatenate\u001b[1;34m(*args, **kwargs)\u001b[0m\n",
      "\u001b[1;31mValueError\u001b[0m: all the input arrays must have same number of dimensions, but the array at index 0 has 2 dimension(s) and the array at index 1 has 1 dimension(s)"
     ]
    }
   ],
   "source": [
    "import numpy as np\n",
    "x = np.array([[1,2],[3,5]])\n",
    "y = np.array([[5,6],[7,8]])\n",
    "v = np.array([9,10])\n",
    "w = np.array([11,12])\n",
    "\n",
    "# Add the two array.\n",
    "print(\"add x+y: \",np.add(x,y))\n",
    "\n",
    "# Subtract the two array.\n",
    "print(\"subtract w-v: \",np.subtract(w,v))\n",
    "\n",
    "# Multiply the array with any integers of your choice.\n",
    "print(\"multiply x*4: \",np.multiply(x,4))\n",
    "\n",
    "# Find the square of each element of the array.\n",
    "print(\"square of x: \",np.power(x,2))\n",
    "\n",
    "# Find the dot product between: v(and)w ; x(and)v ; x(and)y.\n",
    "print(f\"the dot product of v and w is {np.dot(v,w)}\")\n",
    "print(f\"the dot product of x and v is {np.dot(x,v)}\")\n",
    "print(f\"the dot product of x and y is {np.dot(x,y)}\")\n",
    "\n",
    "# Concatenate x(and)y along row and Concatenate v(and)w along column.\n",
    "# {Hint:try np.concatenate() or np.vstack() functions.\n",
    "a = np.concatenate((x,y)) \n",
    "b = np.hstack((v.reshape(-1, 1), w.reshape(-1, 1)))\n",
    "print(f\"Concatenate of x and y along row is {a}\")\n",
    "print(f\"Concatenate of v and w along column is {b}\")\n",
    "\n",
    "# Concatenate x(and)v; if you get an error, observe and explain why did you get the error?\n",
    "# Answer\n",
    "# if we concatenate x and v we get error because x is 2D array and v is 1D array to concatenate array dimensions must be same.\n",
    "c = np.concatenate((x,v))\n"
   ]
  },
  {
   "cell_type": "markdown",
   "id": "7bf48266",
   "metadata": {},
   "source": [
    "Problem - 4: Matrix Operations:"
   ]
  },
  {
   "cell_type": "markdown",
   "id": "f191fb05",
   "metadata": {},
   "source": [
    "For the following arrays:<br>\n",
    "A = np.array([[3,4],[7,8]]) and B = np.array([[5,3],[2,1]]);<br>\n",
    "Prove following with Numpy:"
   ]
  },
  {
   "cell_type": "code",
   "execution_count": 7,
   "id": "ab947d76",
   "metadata": {},
   "outputs": [
    {
     "name": "stdout",
     "output_type": "stream",
     "text": [
      "Is A * A^-1 equal to the identity matrix? \n",
      " True\n",
      "\n",
      "AB =  [[23 13]\n",
      " [51 29]]\n",
      "BA =  [[36 44]\n",
      " [13 16]]\n",
      "is AB = BA ? \n",
      " False\n",
      "\n",
      "AB transpose = [[23 51]\n",
      " [13 29]]\n",
      "B and A transpose = [[23 51]\n",
      " [13 29]]\n",
      "is (AB)^T = B^TA^T ? True\n"
     ]
    }
   ],
   "source": [
    "import numpy as np\n",
    "A = np.array([[3,4],[7,8]])\n",
    "B = np.array([[5,3],[2,1]])\n",
    "#Prove A.A−1 = I.\n",
    "det_A = np.linalg.det(A)\n",
    "if det_A == 0:\n",
    "    print(\"not invertible\")\n",
    "else:\n",
    "    inv_A = np.linalg.inv(A)\n",
    "    result = np.dot(A,inv_A)\n",
    "    I = np.eye(A.shape[0])\n",
    "    is_identity = np.allclose(result, I)\n",
    "    \n",
    "    print(f\"Is A * A^-1 equal to the identity matrix? \\n {is_identity}\")\n",
    "\n",
    "# Prove AB not equal to BA.\n",
    "print()\n",
    "AB = np.dot(A,B)\n",
    "BA = np.dot(B,A)\n",
    "print(\"AB = \",AB)\n",
    "print(\"BA = \",BA)\n",
    "\n",
    "print(f\"is AB = BA ? \\n {np.array_equal(AB,BA)}\")\n",
    "\n",
    "# Prove (AB)T = BTAT\n",
    "print()\n",
    "AB_transpose = np.transpose(np.dot(A,B))\n",
    "A_transpose = np.transpose(A)\n",
    "B_transpose = np.transpose(B)\n",
    "B_and_A_transpose = np.dot(B_transpose,A_transpose)\n",
    "\n",
    "print(f\"AB transpose = {AB_transpose}\")\n",
    "print(f\"B and A transpose = {B_and_A_transpose}\")\n",
    "print(f\"is (AB)^T = B^TA^T ? {np.array_equal(AB_transpose,B_and_A_transpose)}\")"
   ]
  },
  {
   "cell_type": "markdown",
   "id": "a5090dce",
   "metadata": {},
   "source": [
    "Solve the following system of Linear equation using Inverse Methods.<br>\n",
    "\n",
    "2x − 3y + z = −1<br>\n",
    "x − y + 2z = −3<br>\n",
    "3x + y − z = 9<br>\n",
    "\n",
    "{Hint: First use Numpy array to represent the equation in Matrix form. Then Solve for: AX = B}<br>\n",
    "Now: solve the above equation using np.linalg.inv function.{Explore more about ”linalg” function\n",
    "of Numpy}"
   ]
  },
  {
   "cell_type": "code",
   "execution_count": 74,
   "id": "4977cfde",
   "metadata": {},
   "outputs": [
    {
     "name": "stdout",
     "output_type": "stream",
     "text": [
      "(x,y,z) = [ 2.  1. -2.]\n"
     ]
    }
   ],
   "source": [
    "import numpy as np\n",
    "A = np.array([[2,-3,1],[1,-1,2],[3,1,-1]])\n",
    "B = np.array([-1,-3,9])\n",
    "A_det = np.linalg.det(A)\n",
    "\n",
    "if A_det == 0:\n",
    "    print(\"cannot be slove\")\n",
    "else:\n",
    "    A_inv = np.linalg.inv(A)\n",
    "    result = np.dot(A_inv,B)\n",
    "    print(f\"(x,y,z) = {result}\")"
   ]
  },
  {
   "cell_type": "code",
   "execution_count": null,
   "id": "9942e0ca",
   "metadata": {},
   "outputs": [],
   "source": []
  }
 ],
 "metadata": {
  "kernelspec": {
   "display_name": "Python 3 (ipykernel)",
   "language": "python",
   "name": "python3"
  },
  "language_info": {
   "codemirror_mode": {
    "name": "ipython",
    "version": 3
   },
   "file_extension": ".py",
   "mimetype": "text/x-python",
   "name": "python",
   "nbconvert_exporter": "python",
   "pygments_lexer": "ipython3",
   "version": "3.11.5"
  }
 },
 "nbformat": 4,
 "nbformat_minor": 5
}
