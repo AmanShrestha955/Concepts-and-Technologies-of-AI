{
 "cells": [
  {
   "cell_type": "markdown",
   "id": "6b1144f1",
   "metadata": {},
   "source": [
    "to-do-task"
   ]
  },
  {
   "cell_type": "code",
   "execution_count": 4,
   "id": "93f3d829",
   "metadata": {},
   "outputs": [
    {
     "name": "stdout",
     "output_type": "stream",
     "text": [
      "cold:  [8.2, 7.9, 9.0, 8.5, 7.7, 8.4, 9.5, 8.1, 7.6, 8.0, 7.8, 8.7, 9.2, 8.3, 8.9, 7.8]\n",
      "mild:  [14.1, 13.5, 13.0, 12.9, 13.3, 14.0, 13.4, 14.2, 12.8, 13.7, 13.6, 13.8, 13.9, 12.7, 13.1, 12.5]\n",
      "comfortable:  [17.4, 18.0, 17.8, 16.5, 17.2, 16.7, 18.3, 17.9, 17.0, 16.8, 17.5, 17.1, 18.1, 16.4, 18.2, 16.6]\n",
      "\n",
      "16 times cold.\n",
      "16 times mild.\n",
      "16 times comfortable.\n",
      "\n",
      "fahrenheit:  [46.76, 63.32, 57.379999999999995, 46.22, 64.4, 56.3, 48.2, 64.04, 55.4, 47.3, 61.7, 55.22, 45.86, 62.959999999999994, 55.94, 47.120000000000005, 62.059999999999995, 57.2, 49.1, 64.94, 56.120000000000005, 46.58, 64.22, 57.56, 45.68, 62.6, 55.04, 46.4, 62.24, 56.66, 46.04, 63.5, 56.48, 47.66, 62.78, 56.84, 48.56, 64.58, 57.02, 46.94, 61.519999999999996, 54.86, 48.02, 64.75999999999999, 55.58, 46.04, 61.88, 54.5]\n",
      "\n",
      "night:  [7.9, 7.7, 7.6, 8.0, 7.8, 7.8]\n",
      "evening:  [8.2, 14.1, 13.5, 9.0, 13.0, 8.5, 12.9, 13.3, 8.4, 14.0, 9.5, 13.4, 8.1, 14.2, 12.8, 13.7, 13.6, 8.7, 13.8, 9.2, 13.9, 8.3, 12.7, 8.9, 13.1, 12.5]\n",
      "day:  [17.4, 18.0, 17.8, 16.5, 17.2, 16.7, 18.3, 17.9, 17.0, 16.8, 17.5, 17.1, 18.1, 16.4, 18.2, 16.6]\n"
     ]
    }
   ],
   "source": [
    "#task-1\n",
    "temperatures = [8.2, 17.4, 14.1, 7.9, 18.0, 13.5, 9.0, 17.8, 13.0, 8.5,\n",
    " 16.5, 12.9, 7.7, 17.2, 13.3, 8.4, 16.7, 14.0, 9.5, 18.3, 13.4, 8.1,\n",
    " 17.9, 14.2, 7.6, 17.0, 12.8, 8.0, 16.8, 13.7, 7.8, 17.5, 13.6, 8.7,\n",
    " 17.1, 13.8, 9.2, 18.1, 13.9, 8.3, 16.4, 12.7, 8.9, 18.2, 13.1, 7.8,\n",
    " 16.6, 12.5]\n",
    "cold = []\n",
    "mild = []\n",
    "comfortable = []\n",
    "    \n",
    "print(\"cold: \",cold)\n",
    "print(\"mild: \",mild)\n",
    "print(\"comfortable: \",comfortable)\n",
    "\n",
    "print()\n",
    "\n",
    "#task-2\n",
    "print(f\"{len(cold)} times cold.\")\n",
    "print(f\"{len(mild)} times mild.\")\n",
    "print(f\"{len(comfortable)} times comfortable.\")\n",
    "\n",
    "print()\n",
    "\n",
    "#task-3\n",
    "fahrenheit=[]\n",
    "\n",
    "for i in temperatures:\n",
    "    temp = ((i*9)/5)+32\n",
    "    fahrenheit.append(temp)\n",
    "    if i<10.0:\n",
    "        cold.append(i)\n",
    "    elif i>10.0 and i<15.0:\n",
    "        mild.append(i)\n",
    "    else:\n",
    "        comfortable.append(i)\n",
    "\n",
    "print(\"fahrenheit: \",fahrenheit )\n",
    "\n",
    "#task-4\n",
    "night=[]\n",
    "evening=[]\n",
    "day=[]\n",
    "\n",
    "for i in temperatures:\n",
    "    if i<=8.0:\n",
    "        night.append(i)\n",
    "    elif i>8.0 and i<16.0:\n",
    "        evening.append(i)\n",
    "    else:\n",
    "        day.append(i)\n",
    "        \n",
    "print()\n",
    "print(\"night: \", night)\n",
    "print(\"evening: \",evening)\n",
    "print(\"day: \",day)"
   ]
  },
  {
   "cell_type": "markdown",
   "id": "3c00e5db",
   "metadata": {},
   "source": [
    "Task - 1  Sum of Nested Lists"
   ]
  },
  {
   "cell_type": "code",
   "execution_count": 4,
   "id": "12ba6e4c",
   "metadata": {},
   "outputs": [
    {
     "name": "stdout",
     "output_type": "stream",
     "text": [
      "15\n",
      "36\n"
     ]
    }
   ],
   "source": [
    "def  sum_of_nested_lists(nested_list):\n",
    "    total=0\n",
    "    for i in nested_list:\n",
    "        if isinstance(i, list):\n",
    "            total += sum_of_nested_lists(i)\n",
    "        else:\n",
    "            total += i\n",
    "    return total\n",
    "first = sum_of_nested_lists([1,[2,3],[4,[5]]])\n",
    "second = sum_of_nested_lists([1,[2,[3,4],5],6,[7,8]])\n",
    "print(first)\n",
    "print(second)"
   ]
  },
  {
   "cell_type": "markdown",
   "id": "c386aacd",
   "metadata": {},
   "source": [
    " Task 2 - Generate All Permutations of a String"
   ]
  },
  {
   "cell_type": "code",
   "execution_count": 7,
   "id": "e1c1326d",
   "metadata": {},
   "outputs": [
    {
     "name": "stdout",
     "output_type": "stream",
     "text": [
      "['aab', 'aba', 'aab', 'aba', 'baa', 'baa']\n",
      "['abc', 'acb', 'bac', 'bca', 'cab', 'cba']\n"
     ]
    }
   ],
   "source": [
    "def generate_permutations(s):\n",
    "    if len(s) == 1:\n",
    "        return [s]\n",
    "    permutation = []\n",
    "    for i in range(len(s)):\n",
    "        char = s[i]\n",
    "        remaning = s[:i]+s[i+1:]\n",
    "        for j in generate_permutations(remaning):\n",
    "            permutation.append(char+j)\n",
    "    return permutation\n",
    "\n",
    "print(generate_permutations(\"aab\"))\n",
    "print(generate_permutations(\"abc\"))\n",
    "        "
   ]
  },
  {
   "cell_type": "markdown",
   "id": "7e033964",
   "metadata": {},
   "source": [
    " Task 3 - Directory Size Calculation"
   ]
  },
  {
   "cell_type": "code",
   "execution_count": 25,
   "id": "bded6bcf",
   "metadata": {},
   "outputs": [
    {
     "name": "stdout",
     "output_type": "stream",
     "text": [
      "total size of directory structure is 1400 KB\n"
     ]
    }
   ],
   "source": [
    "directory_structure={\n",
    " \"file1.txt\":200,\n",
    " \"file2.txt\":300,\n",
    " \"subdir1\":{\n",
    " \"file3.txt\":400,\n",
    " \"file4.txt\":100\n",
    " },\n",
    " \"subdir2\":{\n",
    " \"subsubdir1\":{\n",
    " \"file5.txt\":250\n",
    " },\n",
    " \"file6.txt\": 150\n",
    " }\n",
    "}\n",
    "def  calculate_directory_size(directory):\n",
    "    total_size = 0\n",
    "    for i in directory.values():\n",
    "        if isinstance(i, dict):\n",
    "            total_size += calculate_directory_size(i)\n",
    "        else:\n",
    "            total_size += i\n",
    "    return total_size\n",
    "\n",
    "size = calculate_directory_size(directory_structure)\n",
    "print(f\"total size of directory structure is {size} KB\")"
   ]
  },
  {
   "cell_type": "code",
   "execution_count": null,
   "id": "7de10679",
   "metadata": {},
   "outputs": [],
   "source": []
  },
  {
   "cell_type": "markdown",
   "id": "ca788b0b",
   "metadata": {},
   "source": [
    "Task 1- Coin Change Problem"
   ]
  },
  {
   "cell_type": "code",
   "execution_count": 14,
   "id": "11a7381e",
   "metadata": {},
   "outputs": [
    {
     "name": "stdout",
     "output_type": "stream",
     "text": [
      "3\n"
     ]
    }
   ],
   "source": [
    "coin = [1,2,5]\n",
    "def min_coins(coins, amount):\n",
    "    coins = sorted(coins, reverse=True)\n",
    "    if amount == 0:\n",
    "        return 0\n",
    "    dp = [float('inf')]* (amount +1)\n",
    "    dp[0] = 0\n",
    "    for i in range(1,amount+1):\n",
    "        for coin in coins:\n",
    "            if i-coin >=0:\n",
    "                dp[i]=min(dp[i], dp[i-coin] + 1)\n",
    "    if dp[amount]>0:\n",
    "        return dp[amount]\n",
    "    else:\n",
    "        return -1\n",
    "    \n",
    "        \n",
    "print(min_coins(coin, 11))"
   ]
  },
  {
   "cell_type": "markdown",
   "id": "01f41fb2",
   "metadata": {},
   "source": [
    " Task 2 - Longest Common Subsequence (LCS)"
   ]
  },
  {
   "cell_type": "code",
   "execution_count": 15,
   "id": "cd22033b",
   "metadata": {},
   "outputs": [
    {
     "name": "stdout",
     "output_type": "stream",
     "text": [
      "3\n"
     ]
    }
   ],
   "source": [
    "def longest_common_subsequence(s1,s2):\n",
    "    m, n = len(s1), len(s2)\n",
    "    dp = [] \n",
    "    for i in range(m + 1): \n",
    "        dp.append([0] * (n +1))\n",
    "        \n",
    "    for i in range(m+1):\n",
    "        for j in range(n+1):\n",
    "            if i == 0 or j == 0:\n",
    "                dp[i][j]=0\n",
    "            elif s1[i-1] == s2[j-1]:\n",
    "                dp[i][j] = dp[i-1][j-1]+1\n",
    "            else: \n",
    "                dp[i][j] = max(dp[i-1][j], dp[i][j-1])\n",
    "    return dp[m][n]\n",
    "    \n",
    "print(longest_common_subsequence(\"abcde\",\"ace\"))"
   ]
  },
  {
   "cell_type": "markdown",
   "id": "bd8913cc",
   "metadata": {},
   "source": [
    "Task - 3 Knapsack Problem:"
   ]
  },
  {
   "cell_type": "code",
   "execution_count": 16,
   "id": "1c28cbfe",
   "metadata": {},
   "outputs": [
    {
     "name": "stdout",
     "output_type": "stream",
     "text": [
      "9\n"
     ]
    }
   ],
   "source": [
    "def knapsack(weights, values, capacity):\n",
    "    m = len(weights)\n",
    "    dp =[]\n",
    "    for i in range(m + 1):\n",
    "        dp.append([0]*(capacity + 1))\n",
    "        \n",
    "    for i in range(m + 1):\n",
    "        for j in range(capacity + 1):\n",
    "            if i == 0 or j == 0:\n",
    "                dp[i][j] = 0\n",
    "            elif weights[i-1] <= j:\n",
    "                dp[i][j]= max(values[i-1] + dp[i-1][(j - weights[i-1])], dp[i-1][j])\n",
    "            else:\n",
    "                dp[i][j]=dp[i-1][j]\n",
    "    return dp[m][capacity]\n",
    "\n",
    "print(knapsack([1, 3, 4, 5],[1, 4, 5, 7],7))"
   ]
  },
  {
   "cell_type": "code",
   "execution_count": null,
   "id": "f5065920",
   "metadata": {},
   "outputs": [],
   "source": []
  }
 ],
 "metadata": {
  "kernelspec": {
   "display_name": "Python 3 (ipykernel)",
   "language": "python",
   "name": "python3"
  },
  "language_info": {
   "codemirror_mode": {
    "name": "ipython",
    "version": 3
   },
   "file_extension": ".py",
   "mimetype": "text/x-python",
   "name": "python",
   "nbconvert_exporter": "python",
   "pygments_lexer": "ipython3",
   "version": "3.11.5"
  }
 },
 "nbformat": 4,
 "nbformat_minor": 5
}
